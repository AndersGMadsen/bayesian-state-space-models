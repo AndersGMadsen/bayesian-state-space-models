{
  "nbformat": 4,
  "nbformat_minor": 0,
  "metadata": {
    "colab": {
      "provenance": []
    },
    "kernelspec": {
      "name": "python3",
      "display_name": "Python 3"
    },
    "language_info": {
      "name": "python"
    }
  },
  "cells": [
    {
      "cell_type": "code",
      "execution_count": null,
      "metadata": {
        "id": "h_Y8Q6VdxMTN"
      },
      "outputs": [],
      "source": []
    },
    {
      "cell_type": "markdown",
      "source": [
        "## Chapter 4: Kalman Filtering and Exact Solutions"
      ],
      "metadata": {
        "id": "KnMCukZvxul2"
      }
    },
    {
      "cell_type": "markdown",
      "source": [
        "Markovian Model:\n"
      ],
      "metadata": {
        "id": "JoBiUD3CFWYa"
      }
    },
    {
      "cell_type": "markdown",
      "source": [
        "$$\n",
        "x_k \\sim p(x_k | x_{k-1})\n",
        "$$\n",
        "\n",
        "$$\n",
        "y_k \\sim p(y_k | x_{k})\n",
        "$$"
      ],
      "metadata": {
        "id": "2cIoLVRhEvxP"
      }
    },
    {
      "cell_type": "markdown",
      "source": [
        "- Markov Property\n",
        "- Conditional independance of measurements"
      ],
      "metadata": {
        "id": "bY7CsnLbF4nq"
      }
    },
    {
      "cell_type": "markdown",
      "source": [
        "Bayesian Filtering: Finding the marginal posterior\n",
        "\n",
        "$$\n",
        "p(x_k | y_{1:k})\n",
        "$$"
      ],
      "metadata": {
        "id": "0EbhLY38GDf3"
      }
    },
    {
      "cell_type": "markdown",
      "source": [
        "# Kalman Filtering\n",
        "\n",
        "The closed form solution to the recursive Bayesian filtering equations"
      ],
      "metadata": {
        "id": "zgud6wUVGSS_"
      }
    },
    {
      "cell_type": "markdown",
      "source": [
        "$$\n",
        "\\begin{aligned}\n",
        "\\mathbf{x}_k & =\\mathbf{A}_{k-1} \\mathbf{x}_{k-1}+\\mathbf{q}_{k-1} \\\\\n",
        "\\mathbf{y}_k & =\\mathbf{H}_k \\mathbf{x}_k+\\mathbf{r}_k\n",
        "\\end{aligned}\n",
        "$$"
      ],
      "metadata": {
        "id": "zOeEGDCmGSVo"
      }
    },
    {
      "cell_type": "markdown",
      "source": [
        "The dynamic and measurement models are linear Gaussian"
      ],
      "metadata": {
        "id": "dd5bZaBAGSZA"
      }
    },
    {
      "cell_type": "markdown",
      "source": [
        "$$\n",
        "\\begin{aligned}\n",
        "p\\left(\\mathbf{x}_k \\mid \\mathbf{x}_{k-1}\\right) & =\\mathrm{N}\\left(\\mathbf{x}_k \\mid \\mathbf{A}_{k-1} \\mathbf{x}_{k-1}, \\mathbf{Q}_{k-1}\\right), \\\\\n",
        "p\\left(\\mathbf{y}_k \\mid \\mathbf{x}_k\\right) & =\\mathrm{N}\\left(\\mathbf{y}_k \\mid \\mathbf{H}_k \\mathbf{x}_k, \\mathbf{R}_k\\right) .\n",
        "\\end{aligned}\n",
        "$$"
      ],
      "metadata": {
        "id": "enHoGJLBG69z"
      }
    },
    {
      "cell_type": "markdown",
      "source": [
        "Evaluating the closed form results in Gaussian distributions. \n",
        "\n",
        "$$\n",
        "p\\left(\\mathbf{x}_k \\mid \\mathbf{y}_{1: k}\\right)=\\mathrm{N}\\left(\\mathbf{x}_k \\mid \\mathbf{m}_k, \\mathbf{P}_k\\right),\n",
        "$$\n",
        "\n",
        "The iterative process of estimating a new state involves a prediction step"
      ],
      "metadata": {
        "id": "Wdfz8T2EG7At"
      }
    },
    {
      "cell_type": "markdown",
      "source": [
        "$$\n",
        "\\begin{aligned}\n",
        "\\mathbf{m}_k^{-} & =\\mathbf{A}_{k-1} \\mathbf{m}_{k-1} \\\\\n",
        "\\mathbf{P}_k^{-} & =\\mathbf{A}_{k-1} \\mathbf{P}_{k-1} \\mathbf{A}_{k-1}^{\\top}+\\mathbf{Q}_{k-1},\n",
        "\\end{aligned}\n",
        "$$"
      ],
      "metadata": {
        "id": "th5gSK3uHhXz"
      }
    },
    {
      "cell_type": "markdown",
      "source": [
        "and a update step"
      ],
      "metadata": {
        "id": "LMp8-8-rHzYg"
      }
    },
    {
      "cell_type": "markdown",
      "source": [
        "$$\n",
        "\\begin{aligned}\n",
        "\\mathbf{v}_k & =\\mathbf{y}_k-\\mathbf{H}_k \\mathbf{m}_k^{-}, \\\\\n",
        "\\mathbf{S}_k & =\\mathbf{H}_k \\mathbf{P}_k^{-} \\mathbf{H}_k^{\\top}+\\mathbf{R}_k, \\\\\n",
        "\\mathbf{K}_k & =\\mathbf{P}_k^{-} \\mathbf{H}_k^{\\top} \\mathbf{S}_k^{-1}, \\\\\n",
        "\\mathbf{m}_k & =\\mathbf{m}_k^{-}+\\mathbf{K}_k \\mathbf{v}_k, \\\\\n",
        "\\mathbf{P}_k & =\\mathbf{P}_k^{-}-\\mathbf{K}_k \\mathbf{S}_k \\mathbf{K}_k^{\\top} .\n",
        "\\end{aligned}\n",
        "$$"
      ],
      "metadata": {
        "id": "dOeCvdM8Hzcu"
      }
    },
    {
      "cell_type": "markdown",
      "source": [
        "## Chapter 5: Extended and Unscented Kalman filter\n",
        "\n",
        "$$\n",
        "\\begin{aligned}\n",
        "\\mathbf{x}_k & =\\mathbf{f}\\left(\\mathbf{x}_{k-1}\\right)+\\mathbf{q}_{k-1}, \\\\\n",
        "\\mathbf{y}_k & =\\mathbf{h}\\left(\\mathbf{x}_k\\right)+\\mathbf{r}_k,\n",
        "\\end{aligned}\n",
        "$$"
      ],
      "metadata": {
        "id": "XWohomZQH6-h"
      }
    },
    {
      "cell_type": "markdown",
      "source": [
        "Assume Gaussian Approximations\n",
        "\n",
        "$$\n",
        "p\\left(\\mathbf{x}_k \\mid \\mathbf{y}_{1: k}\\right) \\simeq \\mathrm{N}\\left(\\mathbf{x}_k \\mid \\mathbf{m}_k, \\mathbf{P}_k\\right)\n",
        "$$"
      ],
      "metadata": {
        "id": "LyFGkCf8Wy4q"
      }
    },
    {
      "cell_type": "markdown",
      "source": [
        "In Extendted Kalman Filtering (EKF), we use Taylor series to approximate the non-linearities. The prediction step then becomes\n",
        "\n",
        "$$\n",
        "\\begin{aligned}\n",
        "\\mathbf{m}_k^{-} & =\\mathbf{f}\\left(\\mathbf{m}_{k-1}\\right), \\\\\n",
        "\\mathbf{P}_k^{-} & =\\mathbf{F}_{\\mathbf{x}}\\left(\\mathbf{m}_{k-1}\\right) \\mathbf{P}_{k-1} \\mathbf{F}_{\\mathbf{x}}^{\\top}\\left(\\mathbf{m}_{k-1}\\right)+\\mathbf{Q}_{k-1},\n",
        "\\end{aligned}\n",
        "$$\n",
        "\n",
        "and the update step becomes\n",
        "\n",
        "$$\n",
        "\\begin{aligned}\n",
        "\\mathbf{v}_k & =\\mathbf{y}_k-\\mathbf{h}\\left(\\mathbf{m}_k^{-}\\right), \\\\\n",
        "\\mathbf{S}_k & =\\mathbf{H}_{\\mathbf{x}}\\left(\\mathbf{m}_k^{-}\\right) \\mathbf{P}_k^{-} \\mathbf{H}_{\\mathbf{x}}^{\\top}\\left(\\mathbf{m}_k^{-}\\right)+\\mathbf{R}_k, \\\\\n",
        "\\mathbf{K}_k & =\\mathbf{P}_k^{-} \\mathbf{H}_{\\mathbf{x}}^{\\top}\\left(\\mathbf{m}_k^{-}\\right) \\mathbf{S}_k^{-1}, \\\\\n",
        "\\mathbf{m}_k & =\\mathbf{m}_k^{-}+\\mathbf{K}_k \\mathbf{v}_k, \\\\\n",
        "\\mathbf{P}_k & =\\mathbf{P}_k^{-}-\\mathbf{K}_k \\mathbf{S}_k \\mathbf{K}_k^{\\top} .\n",
        "\\end{aligned}\n",
        "$$\n",
        "\n",
        "\n",
        "In essense, this means using the Jacobian of the transition function and the measurement model matrix, respectively. Other versions exist that take non-additive and additive noise into account. Could be relevant!"
      ],
      "metadata": {
        "id": "QgmPs6m-Wy8B"
      }
    },
    {
      "cell_type": "markdown",
      "source": [
        "Unscented Kalman Filtering (UKF) uses the unscented transformation and is used for approximating distributations of the same form as EKF. Prediction:\n",
        "\n",
        "- Prediction:\n",
        "\n",
        "\n",
        "1. Form the sigma points:\n",
        "$$\n",
        "\\begin{aligned}\n",
        "\\mathcal{X}_{k-1}^{(0)} & =\\mathbf{m}_{k-1}, \\\\\n",
        "\\mathcal{X}_{k-1}^{(i)} & =\\mathbf{m}_{k-1}+\\sqrt{n+\\lambda}\\left[\\sqrt{\\mathbf{P}_{k-1}}\\right]_i, \\\\\n",
        "\\mathcal{X}_{k-1}^{(i+n)} & =\\mathbf{m}_{k-1}-\\sqrt{n+\\lambda}\\left[\\sqrt{\\mathbf{P}_{k-1}}\\right]_i, \\quad i=1, \\ldots, n,\n",
        "\\end{aligned}\n",
        "$$\n",
        "\n",
        "\n",
        "\n",
        "2. Propagate the sigma points through the dynamic model:\n",
        "$$\n",
        "\\hat{\\mathcal{X}}_k^{(i)}=\\mathbf{f}\\left(\\mathcal{X}_{k-1}^{(i)}\\right), \\quad i=0, \\ldots, 2 n .\n",
        "$$\n",
        "\n",
        "\n",
        "3. Compute the predicted mean $\\mathbf{m}_k^{-}$and the predicted covariance $\\mathbf{P}_k^{-}$:\n",
        "$$\n",
        "\\begin{aligned}\n",
        "& \\mathbf{m}_k^{-}=\\sum_{i=0}^{2 n} W_i^{(\\mathrm{m})} \\hat{\\mathcal{X}}_k^{(i)}, \\\\\n",
        "& \\mathbf{P}_k^{-}=\\sum_{i=0}^{2 n} W_i^{(\\mathrm{c})}\\left(\\hat{\\mathcal{X}}_k^{(i)}-\\mathbf{m}_k^{-}\\right)\\left(\\hat{\\mathcal{X}}_k^{(i)}-\\mathbf{m}_k^{-}\\right)^{\\top}+\\mathbf{Q}_{k-1},\n",
        "\\end{aligned}\n",
        "$$\n",
        "where the weights $W_i^{(\\mathrm{m})}$ and $W_i^{(\\mathrm{c})}$ were defined in Equation (5.77)."
      ],
      "metadata": {
        "id": "zJvL3yyYWy_b"
      }
    },
    {
      "cell_type": "markdown",
      "source": [
        "Update: \n",
        "\n",
        "1. Form Sigma Points\n",
        "2.Propagate sigma points through the measurement model\n",
        "3. Compute predicted mean $\\mu_k$, covariamce of measurement $S_k$, and cross-covariance, $C_k$\n",
        "4. Compute filter gain $K_k = C_k S_k^{-1}$, filtered state mean $m_k$, and covariance $P_k$."
      ],
      "metadata": {
        "id": "iHZ5KCO9WzCR"
      }
    },
    {
      "cell_type": "markdown",
      "source": [
        "## Chapter 8: Rauch-Tung-Striebel (RTS) smoother\n",
        "\n",
        "$$\n",
        "p\\left(\\mathbf{x}_k \\mid \\mathbf{y}_{1:T}\\right)=\\mathrm{N}\\left(\\mathbf{x}_k \\mid \\mathbf{m}_k^s, \\mathbf{P}_k^s\\right),\n",
        "$$\n",
        "\n",
        "Same predictions as Kalman\n",
        "\n",
        "$$\n",
        "\\begin{aligned}\n",
        "\\mathbf{m}_{k+1}^{-} & =\\mathbf{A}_{k} \\mathbf{m}_{k} \\\\\n",
        "\\mathbf{P}_{k+1}^{-} & =\\mathbf{A}_{k} \\mathbf{P}_{k} \\mathbf{A}_{k}^{\\top}+\\mathbf{Q}_{k},\n",
        "\\end{aligned}\n",
        "$$\n",
        "\n",
        "Backward recursion\n"
      ],
      "metadata": {
        "id": "81ggY8WAxaS1"
      }
    },
    {
      "cell_type": "markdown",
      "source": [
        "$$\n",
        "\\begin{aligned}\n",
        "\\mathbf{G}_k & =\\mathbf{P}_k \\mathbf{A}_k^{\\top} [\\mathbf{P}_{k+1}]^{-1}, \\\\\n",
        "\\mathbf{m}_k^s & =\\mathbf{m}_k+\\mathbf{G}_k [\\mathbf{m}_{k+1}^s - \\mathbf{m}_{k+1}^-], \\\\\n",
        "\\mathbf{P}_k^s & =\\mathbf{P}_k+\\mathbf{\n",
        "G}_k [\\mathbf{P}_{k+1}^s -\\mathbf{P}_{k+1}^-] \\mathbf{G}_k^T .\n",
        "\\end{aligned}\n",
        "$$"
      ],
      "metadata": {
        "id": "MO_0eFaGzJLJ"
      }
    },
    {
      "cell_type": "markdown",
      "source": [],
      "metadata": {
        "id": "Dnqk_8s10FXC"
      }
    },
    {
      "cell_type": "markdown",
      "source": [],
      "metadata": {
        "id": "l7BP_u3v1A27"
      }
    }
  ]
}