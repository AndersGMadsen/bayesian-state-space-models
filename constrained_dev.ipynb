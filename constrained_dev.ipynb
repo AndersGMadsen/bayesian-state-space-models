{
 "cells": [
  {
   "cell_type": "code",
   "execution_count": 66,
   "metadata": {},
   "outputs": [],
   "source": [
    "import numpy as np\n",
    "import matplotlib.pyplot as plt"
   ]
  },
  {
   "cell_type": "code",
   "execution_count": 75,
   "metadata": {},
   "outputs": [],
   "source": [
    "m = np.array([[0, 0]])\n",
    "P = np.array([[1, 0], [0, 1]])\n",
    "states = np.random.multivariate_normal(m[0], P, 10)"
   ]
  },
  {
   "cell_type": "code",
   "execution_count": 76,
   "metadata": {},
   "outputs": [],
   "source": [
    "def c(state):\n",
    "    return np.linalg.norm(state) - 1"
   ]
  },
  {
   "cell_type": "code",
   "execution_count": 77,
   "metadata": {},
   "outputs": [],
   "source": [
    "from scipy.optimize import minimize\n",
    "\n",
    "new_states = np.zeros_like(states)\n",
    "\n",
    "for i, state in enumerate(states):\n",
    "    if c(state) > 0:\n",
    "        opt = minimize(lambda x: x @ np.linalg.inv(P) @ x.T, state, method='SLSQP', constraints={'fun': c, 'type': 'ineq'})\n",
    "        new_states[i] = opt.x\n",
    "    else:\n",
    "        new_states[i] = state"
   ]
  },
  {
   "cell_type": "code",
   "execution_count": 78,
   "metadata": {},
   "outputs": [
    {
     "data": {
      "image/png": "[encoded data removed]",
      "text/plain": [
       "<Figure size 500x500 with 1 Axes>"
      ]
     },
     "metadata": {},
     "output_type": "display_data"
    }
   ],
   "source": [
    "fig, ax = plt.subplots(1, 1, figsize=(5, 5))\n",
    "\n",
    "# Plot circle with radius 1\n",
    "circle = plt.Circle((0, 0), 1, color='k', fill=False)\n",
    "ax.add_artist(circle)\n",
    "\n",
    "ax.set_xlim(-3, 3)\n",
    "ax.set_ylim(-3, 3)\n",
    "ax.set_aspect('equal')\n",
    "\n",
    "# Plot points\n",
    "ax.scatter(new_states[:, 0], new_states[:, 1], color='r', s = 30)\n",
    "ax.scatter(states[:, 0], states[:, 1], color='k', s=30)\n",
    "\n",
    "\n",
    "plt.show()"
   ]
  },
  {
   "cell_type": "code",
   "execution_count": null,
   "metadata": {},
   "outputs": [],
   "source": []
  },
  {
   "cell_type": "code",
   "execution_count": null,
   "metadata": {},
   "outputs": [],
   "source": []
  }
 ],
 "metadata": {
  "kernelspec": {
   "display_name": "bayesian",
   "language": "python",
   "name": "python3"
  },
  "language_info": {
   "codemirror_mode": {
    "name": "ipython",
    "version": 3
   },
   "file_extension": ".py",
   "mimetype": "text/x-python",
   "name": "python",
   "nbconvert_exporter": "python",
   "pygments_lexer": "ipython3",
   "version": "3.10.11"
  },
  "orig_nbformat": 4
 },
 "nbformat": 4,
 "nbformat_minor": 2
}
