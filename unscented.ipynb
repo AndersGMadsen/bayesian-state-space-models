{
 "cells": [
  {
   "cell_type": "code",
   "execution_count": 50,
   "metadata": {},
   "outputs": [
    {
     "ename": "AttributeError",
     "evalue": "'tuple' object has no attribute 'reshape'",
     "output_type": "error",
     "traceback": [
      "\u001b[0;31m---------------------------------------------------------------------------\u001b[0m",
      "\u001b[0;31mAttributeError\u001b[0m                            Traceback (most recent call last)",
      "Cell \u001b[0;32mIn[50], line 26\u001b[0m\n\u001b[1;32m     23\u001b[0m sigmas_julier \u001b[39m=\u001b[39m points_julier\u001b[39m.\u001b[39msigma_points(mean, p)\n\u001b[1;32m     25\u001b[0m points_simplex \u001b[39m=\u001b[39m SimplexSigmaPoints(n\u001b[39m=\u001b[39m\u001b[39m2\u001b[39m, alpha\u001b[39m=\u001b[39m\u001b[39m1\u001b[39m)\n\u001b[0;32m---> 26\u001b[0m sigmas_simplex \u001b[39m=\u001b[39m points_simplex\u001b[39m.\u001b[39;49msigma_points(mean, p)\n\u001b[1;32m     29\u001b[0m \u001b[39m### pass through nonlinear function\u001b[39;00m\n\u001b[1;32m     30\u001b[0m sigmas_f \u001b[39m=\u001b[39m np\u001b[39m.\u001b[39mempty((\u001b[39m5\u001b[39m, \u001b[39m2\u001b[39m))\n",
      "File \u001b[0;32m~/anaconda3/envs/state-space/lib/python3.11/site-packages/filterpy/kalman/sigma_points.py:492\u001b[0m, in \u001b[0;36mSimplexSigmaPoints.sigma_points\u001b[0;34m(self, x, P)\u001b[0m\n\u001b[1;32m    490\u001b[0m \u001b[39mif\u001b[39;00m np\u001b[39m.\u001b[39misscalar(x):\n\u001b[1;32m    491\u001b[0m     x \u001b[39m=\u001b[39m np\u001b[39m.\u001b[39masarray([x])\n\u001b[0;32m--> 492\u001b[0m x \u001b[39m=\u001b[39m x\u001b[39m.\u001b[39;49mreshape(\u001b[39m-\u001b[39m\u001b[39m1\u001b[39m, \u001b[39m1\u001b[39m)\n\u001b[1;32m    494\u001b[0m \u001b[39mif\u001b[39;00m np\u001b[39m.\u001b[39misscalar(P):\n\u001b[1;32m    495\u001b[0m     P \u001b[39m=\u001b[39m np\u001b[39m.\u001b[39meye(n) \u001b[39m*\u001b[39m P\n",
      "\u001b[0;31mAttributeError\u001b[0m: 'tuple' object has no attribute 'reshape'"
     ]
    }
   ],
   "source": [
    "from filterpy.kalman import unscented_transform, MerweScaledSigmaPoints, JulierSigmaPoints, SimplexSigmaPoints\n",
    "import scipy.stats as stats\n",
    "import numpy as np\n",
    "from numpy.random import multivariate_normal\n",
    "#from kf_book.nonlinear_plots import plot_monte_carlo_mean\n",
    "import matplotlib.pyplot as plt\n",
    "\n",
    "\n",
    "def f_nonlinear_xy(x, y):\n",
    "    return np.array([x + y, .1*x**2 + y*y])\n",
    "\n",
    "\n",
    "#initial mean and covariance\n",
    "mean = (0., 0.)\n",
    "p = np.array([[32., 15], [15., 40.]])\n",
    "\n",
    "# create sigma points and weights\n",
    "n = 2\n",
    "points = MerweScaledSigmaPoints(n=n, alpha=.3, beta=2., kappa=.1)\n",
    "sigmas = points.sigma_points(mean, p)\n",
    "\n",
    "points_julier = JulierSigmaPoints(n=n, kappa=1)\n",
    "sigmas_julier = points_julier.sigma_points(mean, p)\n",
    "\n",
    "points_simplex = SimplexSigmaPoints(n=2, alpha=1)\n",
    "sigmas_simplex = points_simplex.sigma_points(mean, p)\n",
    "\n",
    "\n",
    "### pass through nonlinear function\n",
    "sigmas_f = np.empty((5, 2))\n",
    "for i in range(5):\n",
    "    sigmas_f[i] = f_nonlinear_xy(sigmas[i, 0], sigmas[i ,1])\n",
    "\n",
    "# pass other sigma points through function\n",
    "sigmas_f_julier = np.empty((5, 2))\n",
    "for i in range(5):\n",
    "    sigmas_f_julier[i] = f_nonlinear_xy(sigmas_julier[i, 0], sigmas_julier[i ,1])\n",
    "\n",
    "#sigmas_f_simplex = np.empty((5, 2))\n",
    "#for i in range(5):\n",
    " #   sigmas_f_simplex[i] = f_nonlinear_xy(sigmas_simplex[i, 0], sigmas_simplex[i ,1])\n",
    "\n",
    "\n",
    "### use unscented transform to get new mean and covariance\n",
    "ukf_mean, ukf_cov = unscented_transform(sigmas_f, points.Wm, points.Wc)\n",
    "\n",
    "#generate random points\n",
    "np.random.seed(100)\n",
    "xs, ys = multivariate_normal(mean=mean, cov=p, size=5000).T\n",
    "\n",
    "#plot_monte_carlo_mean(xs, ys, f_nonlinear_xy, ukf_mean, 'Unscented Mean')\n",
    "#ax = plt.gcf().axes[0]\n",
    "#ax.scatter(sigmas[:,0], sigmas[:,1], c='r', s=30);\n",
    "\n",
    "\n",
    "fig, ax = plt.subplots(1, 2, figsize=(18, 6), sharex=True, sharey=True)\n",
    "\n",
    "ax[0].scatter(xs, ys, c='b', s=30, alpha=.2);\n",
    "ax[0].scatter(sigmas[:,0], sigmas[:,1], c='r', s=100);\n",
    "ax[0].scatter(sigmas_f[:,0], sigmas_f[:,1], c='k', s=50);\n",
    "\n",
    "ax[1].scatter(xs, ys, c='b', s=30, alpha=.2);\n",
    "ax[1].scatter(sigmas_julier[:,0], sigmas_julier[:,1], c='r', s=100);\n",
    "ax[1].scatter(sigmas_f_julier[:,0], sigmas_f_julier[:,1], c='k', s=50);\n",
    "\n",
    "\n",
    "\n",
    "\n",
    "#ax.scatter(ukf_mean[0], ukf_mean[1], c='g', s=50);\n",
    "\n",
    "for a in ax:\n",
    "    #a.set_xlim(-15, 15)\n",
    "    #a.set_ylim(-15, 15)\n",
    "    #a.set_aspect('equal')\n",
    "    #a.set_yscale('log')\n",
    "    pass\n",
    "\n",
    "plt.tight_layout()\n",
    "plt.show()\n"
   ]
  },
  {
   "cell_type": "code",
   "execution_count": 53,
   "metadata": {},
   "outputs": [
    {
     "data": {
      "text/plain": [
       "SimplexSigmaPoints object\n",
       "n = 2\n",
       "alpha = 1\n",
       "Wm = [0.33333333 0.33333333 0.33333333]\n",
       "Wc = [0.33333333 0.33333333 0.33333333]\n",
       "subtract = <ufunc 'subtract'>\n",
       "sqrt = <function cholesky at 0x7f1b81f9e200>"
      ]
     },
     "execution_count": 53,
     "metadata": {},
     "output_type": "execute_result"
    }
   ],
   "source": [
    "points_simplex"
   ]
  }
 ],
 "metadata": {
  "kernelspec": {
   "display_name": "state-space",
   "language": "python",
   "name": "python3"
  },
  "language_info": {
   "codemirror_mode": {
    "name": "ipython",
    "version": 3
   },
   "file_extension": ".py",
   "mimetype": "text/x-python",
   "name": "python",
   "nbconvert_exporter": "python",
   "pygments_lexer": "ipython3",
   "version": "3.11.3"
  },
  "orig_nbformat": 4
 },
 "nbformat": 4,
 "nbformat_minor": 2
}
