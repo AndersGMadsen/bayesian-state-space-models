{
 "cells": [
  {
   "cell_type": "code",
   "execution_count": 1,
   "metadata": {},
   "outputs": [],
   "source": [
    "import numpy as np\n",
    "from matplotlib import pyplot as plt\n",
    "from scipy.stats import multivariate_normal as mvn\n",
    "from scipy.stats import multivariate_t as mvt\n",
    "from utils import MPCTrajectory\n",
    "from utils import systematic_resampling, stratified_resampling, residual_resampling, CarTrajectoryLinear, CarTrajectoryNonLinear\n",
    "from tqdm import tqdm\n",
    "from utils import PF\n",
    "from matplotlib.cm import get_cmap\n",
    "from matplotlib.collections import LineCollection\n",
    "from scipy.interpolate import interp1d"
   ]
  },
  {
   "cell_type": "code",
   "execution_count": 2,
   "metadata": {},
   "outputs": [],
   "source": [
    "trajectory = MPCTrajectory(savepath=\"output/trajectory_L1.npy\")\n",
    "states, measurements = trajectory.get_data()"
   ]
  },
  {
   "cell_type": "code",
   "execution_count": null,
   "metadata": {},
   "outputs": [],
   "source": []
  },
  {
   "cell_type": "code",
   "execution_count": null,
   "metadata": {},
   "outputs": [],
   "source": []
  }
 ],
 "metadata": {
  "kernelspec": {
   "display_name": "bayesian",
   "language": "python",
   "name": "python3"
  },
  "language_info": {
   "codemirror_mode": {
    "name": "ipython",
    "version": 3
   },
   "file_extension": ".py",
   "mimetype": "text/x-python",
   "name": "python",
   "nbconvert_exporter": "python",
   "pygments_lexer": "ipython3",
   "version": "3.10.11"
  },
  "orig_nbformat": 4
 },
 "nbformat": 4,
 "nbformat_minor": 2
}
