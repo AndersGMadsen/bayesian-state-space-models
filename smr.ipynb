{
 "cells": [
  {
   "attachments": {},
   "cell_type": "markdown",
   "metadata": {},
   "source": [
    "# Importance Sampling, Sequential Importance Sampling and Particle Filters\n",
    "Matthias, Yves, Leo and I, we recently discussed above sampling algorithms in the context of `monad-bayes`. To get a better understanding, I decided to implement them in Python."
   ]
  },
  {
   "attachments": {},
   "cell_type": "markdown",
   "metadata": {},
   "source": [
    "## Importance sampling\n",
    "... is a very general sampling method. For once, it has nothing to do with Markov chains and not even with Monte Carlo. \n",
    "Let's say you want to calculate the expectation of a function $f(x)$ w.r.t. a probability distribution $p(x)$. It is given by the following integral:\n",
    "\\begin{equation}\n",
    "    \\langle f \\rangle_{p} = \\int \\mathrm d x \\ f(x) p(x)\n",
    "\\end{equation}\n",
    "Now in general, you might not be able to calculate this analytically, so you resort to numerics. If you could sample correctly from $p(x)$, you could draw $N$ samples $x_1, \\ldots, x_N$ and approximate the integral by a sum:\n",
    "\\begin{equation}\n",
    "    \\langle f \\rangle_{p} \\approx \\frac{1}{N} \\sum_{i=1}^N f(x_i) p(x_i)\n",
    "\\end{equation}\n",
    "The world unfortunately sometimes is kind of a bad place and sampling from $p(x)$ might not be possible. But you might be able to sample from a different distribution $q(x)$. Then, doing what physicists have been doing all their lifes, you insert a 1 and write:\n",
    "\\begin{align}\n",
    "   \\langle f \\rangle_{p} &= \\int \\mathrm d x \\ f(x) \\frac{p(x)}{q(x)}q(x) \\\\\n",
    "           &= \\int \\mathrm d x \\ f(x) w(x) q(x) \\\\\n",
    "           &= \\langle f\\cdot w \\rangle_q\n",
    "\\end{align}"
   ]
  },
  {
   "attachments": {},
   "cell_type": "markdown",
   "metadata": {},
   "source": [
    "Here, we introduced the *importance weight* $w(x)=\\frac{p(x)}{q(x)}$ and we see that we're now calculating the expectation value of a different functon w.r.t. a different distribution. That expectation value can now be again approximated, supposed we draw $N$ samples $x_1, \\ldots, x_N$ from $q$ (confusing, right?):\n",
    "\\begin{equation}\n",
    "    \\langle f \\rangle_p = \\langle f\\cdot w \\rangle_q \\approx \\frac{1}{N}\\sum_{i=1}^N f(x_i) w(x_i)\n",
    "\\end{equation}\n",
    "TODO: I'm not clear why we have to normalize the importants weights (which I haven't done here, but later in the code I do)"
   ]
  },
  {
   "attachments": {},
   "cell_type": "markdown",
   "metadata": {},
   "source": [
    "Voili, voilà&mdash;this is called *importance sampling*, because instead from $p$, we sample from an *importance distribution* $q$. Now you see a problem here: if the distributions $p$ and $q$ don't match up well (and in general, they won't), you will draw many samples from $q$ which have low importance weights $w(x_i)$ and thus contribute only little to the approximation, meaning you will need a lot of samples and still might get a bad estimate."
   ]
  },
  {
   "attachments": {},
   "cell_type": "markdown",
   "metadata": {},
   "source": [
    "### Implementing importance sampling\n",
    "Let's first import useful stuff and define a few PDFs:"
   ]
  },
  {
   "cell_type": "code",
   "execution_count": 1,
   "metadata": {},
   "outputs": [],
   "source": [
    "import numpy as np\n",
    "import matplotlib.pyplot as plt\n",
    "from scipy.special import logsumexp\n",
    "choice = np.random.choice\n",
    "\n",
    "\n",
    "class Pdf(object):\n",
    "\n",
    "    def __call__(self, x):\n",
    "        \"\"\"log-probability\"\"\"\n",
    "        pass\n",
    "\n",
    "    def sample(self, n):\n",
    "        pass\n",
    "\n",
    "\n",
    "\n",
    "class Gaussian(Pdf):\n",
    "\n",
    "    def __init__(self, mu=0, sigma=1):\n",
    "\n",
    "        self.mu = mu\n",
    "        self.sigma = sigma\n",
    "\n",
    "    def __call__(self, x):\n",
    "\n",
    "        return -0.5 * (x - self.mu) ** 2 / self.sigma / self.sigma\n",
    "\n",
    "    def sample(self, n):\n",
    "\n",
    "        return np.random.normal(self.mu, self.sigma, n)\n",
    "\n",
    "\n",
    "class Uniform(Pdf):\n",
    "\n",
    "    def __init__(self, low, high):\n",
    "\n",
    "        self.low = low\n",
    "        self.high = high\n",
    "\n",
    "    def __call__(self, x):\n",
    "\n",
    "        return np.repeat(-np.log(self.high - self.low), len(x))\n",
    "\n",
    "    def sample(self, n):\n",
    "\n",
    "        return np.random.uniform(self.low, self.high, n)"
   ]
  },
  {
   "attachments": {},
   "cell_type": "markdown",
   "metadata": {},
   "source": [
    "Now we whip up a class implementing Importance Sampling. Its `sample` method will return the samples from the importance distribution and the corresponding importance weights. Also, as you might have noticed, we work in log-space for numeric stability."
   ]
  },
  {
   "cell_type": "code",
   "execution_count": 2,
   "metadata": {},
   "outputs": [],
   "source": [
    "class ImportanceSampler(object):\n",
    "\n",
    "    def __init__(self, posterior):\n",
    "\n",
    "        self.posterior = posterior\n",
    "\n",
    "    def sample(self, imp_dist, n_samples):\n",
    "\n",
    "        imp_samples = imp_dist.sample(n_samples)\n",
    "        imp_weights = self.calculate_weights(imp_dist, imp_samples)\n",
    "        # doing stuff in log-space to avoid underflows\n",
    "        normalized_imp_weights = imp_weights - logsumexp(imp_weights)\n",
    "\n",
    "        return imp_samples, normalized_imp_weights\n",
    "\n",
    "    def calculate_weights(self, imp_dist, imp_samples):\n",
    "\n",
    "        return self.posterior(imp_samples) - imp_dist(imp_samples)\n",
    "    "
   ]
  },
  {
   "attachments": {},
   "cell_type": "markdown",
   "metadata": {},
   "source": [
    "Let's try this out. We want to sample from a Gaussian distribution, but we pretend we cannot, so we sample from a uniform importance distribution instead:"
   ]
  },
  {
   "cell_type": "code",
   "execution_count": 3,
   "metadata": {},
   "outputs": [],
   "source": [
    "n_samples = 200000\n",
    "target = Gaussian()\n",
    "imp = Uniform(-10, 10)\n",
    "sampler = ImportanceSampler(target)\n",
    "biased_samples, logws = sampler.sample(imp, n_samples)"
   ]
  },
  {
   "attachments": {},
   "cell_type": "markdown",
   "metadata": {},
   "source": [
    "Now I've been talking a lot about approximating expectation values, but for personal reasons, I'm actually more interested in the actual samples. So how do you get samples from the target distribution from the importance samples and their weights? Well, you just draw from the set of importance samples, but with probabilities given by the importance weights:"
   ]
  },
  {
   "cell_type": "code",
   "execution_count": 4,
   "metadata": {},
   "outputs": [],
   "source": [
    "samples = choice(biased_samples, n_samples, p=np.exp(logws))"
   ]
  },
  {
   "attachments": {},
   "cell_type": "markdown",
   "metadata": {},
   "source": [
    "Gesagt, getan, so now we can plot a histogram of the actual (unbiased) samples:"
   ]
  },
  {
   "cell_type": "code",
   "execution_count": 5,
   "metadata": {},
   "outputs": [
    {
     "data": {
      "image/png": "[encoded data removed]",
      "text/plain": [
       "<Figure size 432x288 with 1 Axes>"
      ]
     },
     "metadata": {
      "needs_background": "light"
     },
     "output_type": "display_data"
    }
   ],
   "source": [
    "fig, ax = plt.subplots()\n",
    "ax.hist(samples, bins=30)\n",
    "plt.show()"
   ]
  },
  {
   "attachments": {},
   "cell_type": "markdown",
   "metadata": {},
   "source": [
    "So that's good: looks pretty normal to me."
   ]
  },
  {
   "attachments": {},
   "cell_type": "markdown",
   "metadata": {},
   "source": [
    "## Sequential Importance Sampling\n",
    "Now imagine we are dealing with a problem in which data is sequential, like a time series or a linear sequence of nucleotides in DNA. Let's assume that after $n$ (time) steps, you have $n$ observations $y_1, \\ldots, y_n \\equiv y_{1:n}$ and you want to know which parameters $x_1, \\ldots, x_n\\equiv x_{1:n}$ at steps $1, \\ldots, n$ gave rise to these observations. Then you would have to draw samples from the posterior distribution $p(x_{1:n}|y_{1:n})$ of \"paths\" $x_{1:n}$. Say you somehow managed to do that and proceed to step $n+1$. Then you will have to sample from the posterior distributions of paths $x_{1:n+1}$. This gets pretty unwieldy for long sequences. \n",
    "But if you can assume that the sequence of $x$'ses is a Markov chain, namely, $p(x_{n+1}|x_{1:n}) = p(x_{n+1}|x_n)$, then you can recycle samples from previous time steps.\n",
    "When using Importance Sampling to sample from these distributions, the importance weights can be calculated recursively. A nice special case is obtained if the importance distribution $q$ is just the prior distribution $p(x_{1:n})$. In that case, the importance weight of the $i$-th sample is given by\n",
    "\\begin{equation}\n",
    "    w(x^i_n) \\propto w(x^i_{n-1}) p(y_n|x^i_n)\n",
    "\\end{equation}"
   ]
  },
  {
   "attachments": {},
   "cell_type": "markdown",
   "metadata": {},
   "source": [
    "A problem with SIS is now that, after already a few steps, only very few weights will have values significantly different from zero. TODO: why exactly is that? I suspect that somehow the weights keep the memory of the initial stage when there was only very little data and the probabilities $p(y|x)$ are very low becaues of bad estimates of the $x$."
   ]
  },
  {
   "attachments": {},
   "cell_type": "markdown",
   "metadata": {},
   "source": [
    "So let's implement SIS. First, we write a class representing a \"sequential prior distribution\", which encodes the Markov property. Basically, it draws new samples based only on the most recent batch of samples:"
   ]
  },
  {
   "cell_type": "code",
   "execution_count": 6,
   "metadata": {},
   "outputs": [],
   "source": [
    "class SequentialPrior(Pdf):\n",
    "\n",
    "    def __init__(self, distribution, first_state):\n",
    "\n",
    "        self.distribution = distribution\n",
    "        self.samples = first_state\n",
    "\n",
    "    def sample(self, _):\n",
    "\n",
    "        self.samples = self.distribution.sample(self.samples)\n",
    "\n",
    "        return self.samples"
   ]
  },
  {
   "attachments": {},
   "cell_type": "markdown",
   "metadata": {},
   "source": [
    "To instantiate a `SequentialPrior` object, we require some conditional distribution (`distribution`) and an initial batch of samples (`first_state`). The `sample` method then draws samples from the distribution conditioned on the previous batch of samples."
   ]
  },
  {
   "attachments": {},
   "cell_type": "markdown",
   "metadata": {},
   "source": [
    "Next up is the actual Sequential Importance Sampler. It derives from `ImportanceSampler`, but saves the current weights and modifies the `calculate_weights` method to calculate weights recursively:"
   ]
  },
  {
   "cell_type": "code",
   "execution_count": 7,
   "metadata": {},
   "outputs": [],
   "source": [
    "class SequentialImportanceSampler(ImportanceSampler):\n",
    "\n",
    "    def __init__(self, posterior):\n",
    "\n",
    "        super(SequentialImportanceSampler, self).__init__(posterior)\n",
    "        self.weights = None\n",
    "\n",
    "    def sample(self, n_samples):\n",
    "\n",
    "        (imp_samples, weights) = super(\n",
    "            SequentialImportanceSampler, self).sample(self.posterior.prior,\n",
    "                                                      n_samples)\n",
    "        # store current weights to make them available to recursion\n",
    "        self.weights = weights\n",
    "\n",
    "        return imp_samples, weights\n",
    "\n",
    "    def calculate_weights(self, _, imp_samples):\n",
    "\n",
    "        if self.weights is None:\n",
    "            self.weights = np.log(np.ones(len(imp_samples)) / len(imp_samples))\n",
    "\n",
    "        likelihoods = self.posterior.likelihood_function(imp_samples)\n",
    "\n",
    "        unnormalized_weights = self.weights + likelihoods\n",
    "        self.weights = unnormalized_weights - logsumexp(unnormalized_weights)\n",
    "\n",
    "        return self.weights"
   ]
  },
  {
   "attachments": {},
   "cell_type": "markdown",
   "metadata": {},
   "source": [
    "Next, we decide for a concrete type of model we want to test this on. We choose a Hidden Markov Modell (HMM) with discrete hidden states and discrete observed states:"
   ]
  },
  {
   "cell_type": "code",
   "execution_count": 8,
   "metadata": {},
   "outputs": [],
   "source": [
    "class HMMPosterior(Pdf):\n",
    "\n",
    "    def __init__(self, trans_matrix, obs_probs):\n",
    "\n",
    "        self.observations = []\n",
    "        self.obs_probs = obs_probs\n",
    "        self.prior = trans_matrix\n",
    "\n",
    "    def likelihood_function(self, hidden_states):\n",
    "\n",
    "        return np.log(self.obs_probs[hidden_states, self.observations[-1]])\n",
    "\n",
    "    def add_observation(self, x):\n",
    "\n",
    "        self.observations.append(x)"
   ]
  },
  {
   "attachments": {},
   "cell_type": "markdown",
   "metadata": {},
   "source": [
    "This guy takes a transition matrix for the hidden states (`trans_matrix`) and a matrix with the observation probabilities conditioned on hidden states (`obs_probs`). The likelihood function evaluates the likelihood of the most recent observation given a hidden state. `add_observation`, well, adds an observation. \n",
    "The last ingredient now is a transition matrix object:"
   ]
  },
  {
   "cell_type": "code",
   "execution_count": 9,
   "metadata": {},
   "outputs": [],
   "source": [
    "class TransitionMatrix(object):\n",
    "\n",
    "    def __init__(self, transition_matrix):\n",
    "\n",
    "        self.transition_matrix = transition_matrix\n",
    "        self.hidden_states = np.arange(len(transition_matrix))\n",
    "\n",
    "    def sample(self, old_states):\n",
    "\n",
    "        return np.array([choice(self.hidden_states,\n",
    "                                p=self.transition_matrix[hidden_state])\n",
    "                         for hidden_state in old_states])"
   ]
  },
  {
   "attachments": {},
   "cell_type": "markdown",
   "metadata": {},
   "source": [
    "It basically just wraps a `numpy` matrix and provides a neat `sample` function that provides the required interface for use with `SequentialPrior`. "
   ]
  },
  {
   "attachments": {},
   "cell_type": "markdown",
   "metadata": {},
   "source": [
    "Now we have to stitch all of this together. First we define the parameters of the HMM:"
   ]
  },
  {
   "cell_type": "code",
   "execution_count": 10,
   "metadata": {},
   "outputs": [],
   "source": [
    "hidden_states = [0, 1]\n",
    "observation_states = [0, 1]\n",
    "start_prob = np.array([0.5, 0.5])\n",
    "trans_matrix = np.array([[0.9, 0.1],\n",
    "                         [0.1, 0.9]])\n",
    "obs_probs = np.array([[0.9, 0.1],\n",
    "                      [0.1, 0.9]])"
   ]
  },
  {
   "attachments": {},
   "cell_type": "markdown",
   "metadata": {},
   "source": [
    "Let's choose some number of importance samples which we will draw each time a new observation comes in:"
   ]
  },
  {
   "cell_type": "code",
   "execution_count": 11,
   "metadata": {},
   "outputs": [],
   "source": [
    "n_particles = 1000"
   ]
  },
  {
   "attachments": {},
   "cell_type": "markdown",
   "metadata": {},
   "source": [
    "We now draw an initial state for the Markov chain in the HMM and instantiate all objects we need:"
   ]
  },
  {
   "cell_type": "code",
   "execution_count": 12,
   "metadata": {},
   "outputs": [],
   "source": [
    "start_state = choice(hidden_states, n_particles, p=start_prob)\n",
    "\n",
    "pdist = TransitionMatrix(trans_matrix)\n",
    "prior = SequentialPrior(pdist, start_state)\n",
    "posterior = HMMPosterior(prior, obs_probs)\n",
    "sampler = SequentialImportanceSampler(posterior)"
   ]
  },
  {
   "attachments": {},
   "cell_type": "markdown",
   "metadata": {},
   "source": [
    "No inference without some nice fake data generated from the model:"
   ]
  },
  {
   "cell_type": "code",
   "execution_count": 13,
   "metadata": {},
   "outputs": [],
   "source": [
    "n_observations = 30\n",
    "# we have to start with some state...\n",
    "true_states = [0]\n",
    "observations = []\n",
    "for _ in range(n_observations):\n",
    "    new_state = choice(hidden_states, p=trans_matrix[true_states[-1]])\n",
    "    new_observation = choice(\n",
    "        observation_states, p=obs_probs[new_state])\n",
    "    observations.append(new_observation)\n",
    "    true_states.append(new_state)"
   ]
  },
  {
   "attachments": {},
   "cell_type": "markdown",
   "metadata": {},
   "source": [
    "Slowly getting there. Here's two variables which will hold successively more samples and importance weights:"
   ]
  },
  {
   "cell_type": "code",
   "execution_count": 14,
   "metadata": {},
   "outputs": [],
   "source": [
    "# will store sucessive posterior samples; is enlarged in each iteration\n",
    "states_samples = None\n",
    "# stores log-weights for all samples\n",
    "all_log_ws = []"
   ]
  },
  {
   "attachments": {},
   "cell_type": "markdown",
   "metadata": {},
   "source": [
    "Aaaaand we sample. We're in an on-line setting and pretend to have a new observation after each time step:"
   ]
  },
  {
   "cell_type": "code",
   "execution_count": 15,
   "metadata": {},
   "outputs": [],
   "source": [
    "for observation in observations:\n",
    "    # we're on-line: a new observation is arriving!\n",
    "    posterior.add_observation(observation)\n",
    "\n",
    "    # draw samples from importance distribution and\n",
    "    # store them along with their corresponding importance\n",
    "    # weights\n",
    "    (samples, log_ws) = sampler.sample(n_particles)\n",
    "\n",
    "    if states_samples is None:\n",
    "        states_samples = samples.reshape(1, n_particles)\n",
    "    else:\n",
    "        # append n_particles samples to states_samples\n",
    "        states_samples = np.vstack((states_samples, samples))\n",
    "\n",
    "    all_log_ws.append(log_ws)"
   ]
  },
  {
   "attachments": {},
   "cell_type": "markdown",
   "metadata": {},
   "source": [
    "Now, to get samples from the target posterior distribution of hidden states, we have to draw unbiased samples again:"
   ]
  },
  {
   "cell_type": "code",
   "execution_count": 16,
   "metadata": {},
   "outputs": [],
   "source": [
    "# ... and back to actual probabilities\n",
    "all_weights = np.exp(all_log_ws)\n",
    "# get samples from target by reweighting importance samples\n",
    "target_samples = np.array([choice(samples, n_samples, p=weight)\n",
    "                           for weight, samples in zip(all_weights,\n",
    "                                                      states_samples)])"
   ]
  },
  {
   "attachments": {},
   "cell_type": "markdown",
   "metadata": {},
   "source": [
    "And finally, a fancy plot summarizing the results:"
   ]
  },
  {
   "cell_type": "code",
   "execution_count": 17,
   "metadata": {},
   "outputs": [
    {
     "data": {
      "image/png": "[encoded data removed]",
      "text/plain": [
       "<Figure size 648x216 with 2 Axes>"
      ]
     },
     "metadata": {
      "needs_background": "light"
     },
     "output_type": "display_data"
    }
   ],
   "source": [
    "# make fancy plots\n",
    "times = np.arange(n_observations)\n",
    "fig, (ax1, ax2) = plt.subplots(1, 2, figsize=(9,3))\n",
    "# plot data and time trace of one of the posterior probabilities\n",
    "ax1.scatter(times, observations)\n",
    "ax1.plot(times, target_samples.sum(1) / n_samples,\n",
    "         ls='--', color='orange', label=r'$p(x=1|y_{1:t})$')\n",
    "ax1.set_yticks((0, 1))\n",
    "ax1.set_xlabel(\"time\")\n",
    "ax1.legend()\n",
    "\n",
    "# for each time step, plot cumulative distribution of weights\n",
    "# whose lines get darker with increasing time step\n",
    "for alpha, weights in zip(np.linspace(1, 0, n_observations),\n",
    "                          all_weights):\n",
    "    ax2.plot(np.sort(weights),\n",
    "             np.linspace(0, 1, n_particles, endpoint=False),\n",
    "             color=\"black\", alpha=alpha)\n",
    "# double log scale because the plot sucks otherwise\n",
    "ax2.set_xscale(\"log\")\n",
    "ax2.set_yscale(\"log\")\n",
    "ax2.set_ylabel(\"empirical cumulative\\ndistribution function\")\n",
    "ax2.set_xlabel(\"weight value\")\n",
    "\n",
    "fig.tight_layout()\n",
    "plt.show()\n"
   ]
  },
  {
   "attachments": {},
   "cell_type": "markdown",
   "metadata": {},
   "source": [
    "The left plot shows the data together with the posterior probabilities for the hidden state to be $1$. The right plot shows the empirical cumulative distribution function (eCDF) of the weight values for different times. So the $y$-axis shows the fraction of weights which are smaller than a certain value. The more time progresses, the fainter the lines get. They shift towards the left, meaning that more and more weights have values of essentially zero, which nicely illustrates the weight decay."
   ]
  }
 ],
 "metadata": {
  "kernelspec": {
   "display_name": "venv",
   "language": "python",
   "name": "venv"
  },
  "language_info": {
   "codemirror_mode": {
    "name": "ipython",
    "version": 3
   },
   "file_extension": ".py",
   "mimetype": "text/x-python",
   "name": "python",
   "nbconvert_exporter": "python",
   "pygments_lexer": "ipython3",
   "version": "3.7.3"
  }
 },
 "nbformat": 4,
 "nbformat_minor": 2
}
