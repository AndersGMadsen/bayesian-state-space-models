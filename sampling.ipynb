{
 "cells": [
  {
   "cell_type": "code",
   "execution_count": null,
   "metadata": {},
   "outputs": [],
   "source": [
    "# Example of importance sampling in Python\n",
    "\n",
    "import numpy as np\n",
    "from scipy.stats import norm\n",
    "\n",
    "n = 1000000 # Number of Monte Carlo samples\n",
    "\n",
    "np.random.seed(0) # Initialization of random number generator for replicability\n",
    "\n",
    "# Standard Monte Carlo\n",
    "x = np.random.randn(n, 1)\n",
    "g = 10 * np.exp(-5 * (x - 3) ** 4)\n",
    "MC = np.mean(g)\n",
    "std_MC = np.sqrt(( 1 / n) * np.var(g))\n",
    "print('Standard Monte-Carlo estimate of the expected value: ' + str(MC))\n",
    "print('Standard deviation of plain-vanilla Monte Carlo: ' + str(std_MC))\n",
    "print(' ')\n",
    "\n",
    "# Importance sampling\n",
    "y = 3 + np.random.randn(n, 1);\n",
    "g = 10 * np.exp(-5 * (y  - 3) ** 4);\n",
    "g_weighted = g * norm.pdf(y, 0, 1) / norm.pdf(y, 3, 1);\n",
    "IS = np.mean(g_weighted)\n",
    "std_IS = np.sqrt((1 / n) * np.var(g_weighted))\n",
    "print('Importance-sampling Monte-Carlo estimate of the expected value: ' + str(IS))\n",
    "print('Standard deviation of importance-sampling Monte Carlo: ' + str(std_IS))"
   ]
  },
  {
   "cell_type": "code",
   "execution_count": null,
   "metadata": {},
   "outputs": [],
   "source": [
    "norm.pdf()"
   ]
  }
 ],
 "metadata": {
  "kernelspec": {
   "display_name": "bayesian",
   "language": "python",
   "name": "python3"
  },
  "language_info": {
   "codemirror_mode": {
    "name": "ipython",
    "version": 3
   },
   "file_extension": ".py",
   "mimetype": "text/x-python",
   "name": "python",
   "nbconvert_exporter": "python",
   "pygments_lexer": "ipython3",
   "version": "3.10.11"
  },
  "orig_nbformat": 4
 },
 "nbformat": 4,
 "nbformat_minor": 2
}
